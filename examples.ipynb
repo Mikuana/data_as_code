{
 "cells": [
  {
   "cell_type": "markdown",
   "metadata": {
    "collapsed": true,
    "pycharm": {
     "name": "#%% md\n"
    }
   },
   "source": [
    "For our first example, let's download a csv from the internet, and perform some\n",
    "data processing on it."
   ]
  },
  {
   "cell_type": "code",
   "execution_count": 1,
   "outputs": [],
   "source": [
    "from data_as_code import Recipe\n",
    "\n",
    "r = Recipe()\n",
    "r.begin()"
   ],
   "metadata": {
    "collapsed": false,
    "pycharm": {
     "name": "#%%\n"
    }
   }
  },
  {
   "cell_type": "markdown",
   "source": [
    "We've started our recipe using defaults. This will cause the package to store all\n",
    "files in a temporary directory that was created for this recipe. This includes the\n",
    "csv file that we download in the next step."
   ],
   "metadata": {
    "collapsed": false,
    "pycharm": {
     "name": "#%% md\n"
    }
   }
  },
  {
   "cell_type": "code",
   "execution_count": 2,
   "outputs": [
    {
     "name": "stdout",
     "output_type": "stream",
     "text": [
      "Downloading from URL:\n",
      "https://www.stats.govt.nz/assets/Uploads/Annual-enterprise-survey/Annual-enterprise-survey-2019-financial-year-provisional/Download-data/annual-enterprise-survey-2019-financial-year-provisional-size-bands-csv.csv\n"
     ]
    },
    {
     "name": "stderr",
     "output_type": "stream",
     "text": [
      "survey: 1.16MB [00:00, 31.1MB/s]                 \n"
     ]
    },
    {
     "data": {
      "text/plain": "<data_as_code.step.GetHTTP at 0x7f5238f456a0>"
     },
     "execution_count": 2,
     "metadata": {},
     "output_type": "execute_result"
    }
   ],
   "source": [
    "from data_as_code import GetHTTP\n",
    "\n",
    "url = 'https://www.stats.govt.nz/assets/Uploads/Annual-enterprise-survey/Annual-enterprise-survey-2019-financial-year-provisional/Download-data/annual-enterprise-survey-2019-financial-year-provisional-size-bands-csv.csv'\n",
    "GetHTTP(r, url, name='survey')"
   ],
   "metadata": {
    "collapsed": false,
    "pycharm": {
     "name": "#%%\n"
    }
   }
  },
  {
   "cell_type": "markdown",
   "source": [
    "In the section above, we used the `GetHTTP` class and provided it with the URL to\n",
    "our csv file. We also provided it with a name, since the name of the file from the\n",
    "URL is very long (annual-enterprise-survey-2019-financial-year-provisional-size-bands-csv.csv)."
   ],
   "metadata": {
    "collapsed": false,
    "pycharm": {
     "name": "#%% md\n"
    }
   }
  },
  {
   "cell_type": "code",
   "execution_count": 5,
   "outputs": [
    {
     "ename": "Exception",
     "evalue": "Lineage matches multiple candidates",
     "output_type": "error",
     "traceback": [
      "\u001B[0;31m---------------------------------------------------------------------------\u001B[0m",
      "\u001B[0;31mException\u001B[0m                                 Traceback (most recent call last)",
      "\u001B[0;32m<ipython-input-5-4b026ddd1763>\u001B[0m in \u001B[0;36m<module>\u001B[0;34m\u001B[0m\n\u001B[1;32m     22\u001B[0m \u001B[0;34m\u001B[0m\u001B[0m\n\u001B[1;32m     23\u001B[0m \u001B[0mCustomStep\u001B[0m\u001B[0;34m(\u001B[0m\u001B[0mr\u001B[0m\u001B[0;34m,\u001B[0m \u001B[0;34m'wages'\u001B[0m\u001B[0;34m)\u001B[0m\u001B[0;34m\u001B[0m\u001B[0;34m\u001B[0m\u001B[0m\n\u001B[0;32m---> 24\u001B[0;31m \u001B[0mprint\u001B[0m\u001B[0;34m(\u001B[0m\u001B[0mr\u001B[0m\u001B[0;34m.\u001B[0m\u001B[0mget_artifact\u001B[0m\u001B[0;34m(\u001B[0m\u001B[0;34m'wages'\u001B[0m\u001B[0;34m)\u001B[0m\u001B[0;34m.\u001B[0m\u001B[0mfile_hash\u001B[0m\u001B[0;34m.\u001B[0m\u001B[0mhexdigest\u001B[0m\u001B[0;34m(\u001B[0m\u001B[0;34m)\u001B[0m\u001B[0;34m)\u001B[0m\u001B[0;34m\u001B[0m\u001B[0;34m\u001B[0m\u001B[0m\n\u001B[0m",
      "\u001B[0;32m~/PycharmProjects/DaC/data_as_code/artifact.py\u001B[0m in \u001B[0;36mget_artifact\u001B[0;34m(self, *args)\u001B[0m\n\u001B[1;32m    168\u001B[0m             \u001B[0;32mreturn\u001B[0m \u001B[0mself\u001B[0m\u001B[0;34m.\u001B[0m\u001B[0martifacts\u001B[0m\u001B[0;34m[\u001B[0m\u001B[0mcandidates\u001B[0m\u001B[0;34m.\u001B[0m\u001B[0mindex\u001B[0m\u001B[0;34m(\u001B[0m\u001B[0;32mTrue\u001B[0m\u001B[0;34m)\u001B[0m\u001B[0;34m]\u001B[0m\u001B[0;34m\u001B[0m\u001B[0;34m\u001B[0m\u001B[0m\n\u001B[1;32m    169\u001B[0m         \u001B[0;32melif\u001B[0m \u001B[0msum\u001B[0m\u001B[0;34m(\u001B[0m\u001B[0mcandidates\u001B[0m\u001B[0;34m)\u001B[0m \u001B[0;34m>\u001B[0m \u001B[0;36m1\u001B[0m\u001B[0;34m:\u001B[0m\u001B[0;34m\u001B[0m\u001B[0;34m\u001B[0m\u001B[0m\n\u001B[0;32m--> 170\u001B[0;31m             \u001B[0;32mraise\u001B[0m \u001B[0mException\u001B[0m\u001B[0;34m(\u001B[0m\u001B[0;34m\"Lineage matches multiple candidates\"\u001B[0m\u001B[0;34m)\u001B[0m\u001B[0;34m\u001B[0m\u001B[0;34m\u001B[0m\u001B[0m\n\u001B[0m\u001B[1;32m    171\u001B[0m         \u001B[0;32melse\u001B[0m\u001B[0;34m:\u001B[0m\u001B[0;34m\u001B[0m\u001B[0;34m\u001B[0m\u001B[0m\n\u001B[1;32m    172\u001B[0m             raise Exception(\n",
      "\u001B[0;31mException\u001B[0m: Lineage matches multiple candidates"
     ]
    }
   ],
   "source": [
    "import csv\n",
    "from data_as_code import Step, InputArtifact\n",
    "from pathlib import Path\n",
    "\n",
    "class CustomStep(Step):\n",
    "    survey = InputArtifact('survey')\n",
    "\n",
    "    def process(self) -> Path:\n",
    "        path = Path(r.workspace, 'wages.csv')\n",
    "        with path.open('w', newline='') as wf:\n",
    "            writer = csv.writer(wf)\n",
    "            with self.survey.file_path.open(newline='') as cf:\n",
    "                for ix, row in enumerate(csv.reader(cf)):\n",
    "                    if ix == 0:\n",
    "                        writer.writerow(row)\n",
    "                    elif row[4] == 'Salaries and wages paid':\n",
    "                        try:\n",
    "                            writer.writerow(row[:4] + [int(row[5]) * int(1e6)] + ['DOLLARS'])\n",
    "                        except ValueError:\n",
    "                            pass\n",
    "        return path\n",
    "\n",
    "CustomStep(r, 'wages')\n",
    "print(r.get_artifact('wages').file_hash.hexdigest())"
   ],
   "metadata": {
    "collapsed": false,
    "pycharm": {
     "name": "#%%\n"
    }
   }
  },
  {
   "cell_type": "code",
   "execution_count": null,
   "outputs": [],
   "source": [
    "# r.end()"
   ],
   "metadata": {
    "collapsed": false,
    "pycharm": {
     "name": "#%%\n"
    }
   }
  }
 ],
 "metadata": {
  "kernelspec": {
   "display_name": "Python 3",
   "language": "python",
   "name": "python3"
  },
  "language_info": {
   "codemirror_mode": {
    "name": "ipython",
    "version": 2
   },
   "file_extension": ".py",
   "mimetype": "text/x-python",
   "name": "python",
   "nbconvert_exporter": "python",
   "pygments_lexer": "ipython2",
   "version": "2.7.6"
  }
 },
 "nbformat": 4,
 "nbformat_minor": 0
}