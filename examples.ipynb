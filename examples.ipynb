{
 "cells": [
  {
   "cell_type": "markdown",
   "metadata": {
    "collapsed": true,
    "pycharm": {
     "name": "#%% md\n"
    }
   },
   "source": [
    "# Data As Code Example\n",
    "\n",
    "Alice wants to produce a CSV file which describes the number of available beds\n",
    "in each hospital, each week, in Washington state, then send it to Bob.\n",
    "She finds a CSV on a government website that has these data, along with other\n",
    "data that she doesn't want. She needs to manipulate the file to include only the\n",
    "columns and rows that she is interested in.\n",
    "\n",
    "https://healthdata.gov/sites/default/files/reported_hospital_capacity_admissions_facility-level_weekly_average_timeseries_20201207.csv\n",
    "\n",
    "In a common workflow, Alice would download the file with a browser, use some\n",
    "tools to filter rows and columns, then output to a new CSV. Then she would send\n",
    "the file to Bob in an email. Many users would do this in a visual tool like\n",
    "Excel, but Alice really likes `pandas`, so she'll use that to manipulate the\n",
    "file. She could easily do this from a python console, but she writes a script\n",
    "like this:\n"
   ]
  },
  {
   "cell_type": "code",
   "execution_count": 24,
   "outputs": [],
   "source": [
    "from pathlib import Path\n",
    "\n",
    "import pandas as pd\n",
    "\n",
    "dlp = Path(Path.home(), 'AliceAnalysis', 'beds_20201207.csv')\n",
    "dlp_df = pd.read_csv(dlp)\n",
    "wanted_column = ['collection_week', 'hospital_name', 'all_adult_hospital_beds_7_day_avg']\n",
    "new_df = dlp_df[dlp_df['state'] == 'WA'][wanted_column]\n",
    "new_df.to_csv(\n",
    "    Path(Path.home(), 'AliceAnalysis', 'out.csv'),\n",
    "    index=False\n",
    ")"
   ],
   "metadata": {
    "collapsed": false,
    "pycharm": {
     "name": "#%%\n"
    }
   }
  },
  {
   "cell_type": "markdown",
   "source": [
    "When Alice downloaded the file, she shortened the name to `beds_20201207.csv`\n",
    "because the original was too long; it wasn't easy to reference, and she didn't\n",
    "like the look of it on her file system. She kept the full URL for reference.\n",
    "Alice used `pandas` to load the file that she downloaded manually, performed her\n",
    "manipulations, then wrote the result to another `csv`. Now she'll attach\n",
    "`out.csv` in an email, but first she renames it to `wa_bed_average_20210201`.\n",
    "Then she sends it to Bob.\n",
    "\n",
    "This process works *ok* if Bob doesn't care where the data comes from. In most\n",
    "cases, Bob really does care about how the data were produced, and he insists on\n",
    "an explanation of sources and manipulations. So Alice will also need to include\n",
    "a lengthy description in her email of where she got the data, what she did to\n",
    "it, and so on. She could write all this in english in her email, but she decides\n",
    "that her script has plenty of description, so she attaches that instead. So now\n",
    "she has an email with:\n",
    "\n",
    " 1. a URL to download the file (with a different, longer file name)\n",
    " 2. a python script with esoteric file paths, including her renamed `csv`\n",
    " 3. an attached `csv` with the result\n",
    "\n",
    "This helps Bob understand the data, a little, but the script is only so useful;\n",
    "he can't run the script himself without updating file paths and names. If Bob\n",
    "is just interested in seeing the code, then that's ok, but the code is not\n",
    "reusable in its current form. Bob can't easily verify that the file reference\n",
    "in the URL is the same one that was used to produce the attached file. Bob's\n",
    "also not certain if Alice actually attached the correct output file. There were\n",
    "numerous manual steps involved in the process, which raises questions about\n",
    "whether the attached code actually lines up with the ultimate product of the\n",
    "process.\n",
    "\n",
    "This is a common problem, which can be solved by treating **data as code**;\n",
    "instead of incorporating numerous manual steps in a workflow to create a data\n",
    "product, Alice can instead script the entire process, and generate an exhaustive\n",
    "recipe - complete with metadata for every step - with verifiable checksums for\n",
    "all inputs and outputs in the process.\n"
   ],
   "metadata": {
    "collapsed": false,
    "pycharm": {
     "name": "#%% md\n"
    }
   }
  },
  {
   "cell_type": "code",
   "execution_count": 1,
   "outputs": [],
   "source": [
    "from pathlib import Path\n",
    "\n",
    "import pandas as pd\n",
    "from data_as_code import Recipe, step\n",
    "\n",
    "with Recipe() as r:\n",
    "    step.SourceHTTP(\n",
    "        r, ('https://healthdata.gov/sites/default/files/'\n",
    "        'reported_hospital_capacity_admissions_facility-level_weekly_average_timeseries_20201207.csv'\n",
    "         ), name='admits'\n",
    "    )\n",
    "\n",
    "    class Subset(step.Step):\n",
    "        admits = step.Input('admits')\n",
    "\n",
    "        def instructions(self):\n",
    "            df = pd.read_csv(self.admits.path)\n",
    "            columns = ['collection_week', 'hospital_name', 'all_adult_hospital_beds_7_day_avg']\n",
    "            df = df[df['state'] == 'WA'][columns]\n",
    "            p = Path('washington_adult_7_day_bed_average.csv')\n",
    "            df.to_csv(p, index=False)\n",
    "            return p\n",
    "\n",
    "    Subset(r)\n",
    "    r.add_product('washington_adult_7_day_bed_average.csv')"
   ],
   "metadata": {
    "collapsed": false,
    "pycharm": {
     "name": "#%%\n"
    }
   }
  }
 ],
 "metadata": {
  "kernelspec": {
   "display_name": "Python 3",
   "language": "python",
   "name": "python3"
  },
  "language_info": {
   "codemirror_mode": {
    "name": "ipython",
    "version": 2
   },
   "file_extension": ".py",
   "mimetype": "text/x-python",
   "name": "python",
   "nbconvert_exporter": "python",
   "pygments_lexer": "ipython2",
   "version": "2.7.6"
  }
 },
 "nbformat": 4,
 "nbformat_minor": 0
}