{
 "cells": [
  {
   "cell_type": "markdown",
   "metadata": {
    "collapsed": true,
    "pycharm": {
     "name": "#%% md\n"
    }
   },
   "source": [
    "For our first example, let's download a csv from the internet, and perform some\n",
    "data processing on it."
   ]
  },
  {
   "cell_type": "code",
   "execution_count": 7,
   "outputs": [],
   "source": [
    "from data_as_code import Recipe\n",
    "\n",
    "r = Recipe()\n",
    "r.begin()"
   ],
   "metadata": {
    "collapsed": false,
    "pycharm": {
     "name": "#%%\n"
    }
   }
  },
  {
   "cell_type": "markdown",
   "source": [
    "We've started our recipe using defaults. This will cause the package to store all\n",
    "files in a temporary directory that was created for this recipe. This includes the\n",
    "csv file that we download in the next step."
   ],
   "metadata": {
    "collapsed": false,
    "pycharm": {
     "name": "#%% md\n"
    }
   }
  },
  {
   "cell_type": "code",
   "execution_count": 8,
   "outputs": [
    {
     "name": "stderr",
     "output_type": "stream",
     "text": [
      "survey: 1.16MB [00:00, 28.0MB/s]                 \n"
     ]
    },
    {
     "name": "stdout",
     "output_type": "stream",
     "text": [
      "Downloading from URL:\n",
      "https://www.stats.govt.nz/assets/Uploads/Annual-enterprise-survey/Annual-enterprise-survey-2019-financial-year-provisional/Download-data/annual-enterprise-survey-2019-financial-year-provisional-size-bands-csv.csv\n"
     ]
    },
    {
     "data": {
      "text/plain": "<data_as_code.step.GetHTTP at 0x7f1ed0dee520>"
     },
     "execution_count": 8,
     "metadata": {},
     "output_type": "execute_result"
    }
   ],
   "source": [
    "from data_as_code import GetHTTP\n",
    "\n",
    "url = 'https://www.stats.govt.nz/assets/Uploads/Annual-enterprise-survey/Annual-enterprise-survey-2019-financial-year-provisional/Download-data/annual-enterprise-survey-2019-financial-year-provisional-size-bands-csv.csv'\n",
    "GetHTTP(r, url, name='survey')"
   ],
   "metadata": {
    "collapsed": false,
    "pycharm": {
     "name": "#%%\n"
    }
   }
  },
  {
   "cell_type": "markdown",
   "source": [
    "In the section above, we used the `GetHTTP` class and provided it with the URL to\n",
    "our csv file. We also provided it with a name, since the name of the file from the\n",
    "URL is very long (annual-enterprise-survey-2019-financial-year-provisional-size-bands-csv.csv)."
   ],
   "metadata": {
    "collapsed": false,
    "pycharm": {
     "name": "#%% md\n"
    }
   }
  },
  {
   "cell_type": "code",
   "execution_count": 9,
   "outputs": [
    {
     "name": "stdout",
     "output_type": "stream",
     "text": [
      "e31f7e994b2205375f814213265df1d7cf47ebfeced35bea1e68f3a883a130ff\n"
     ]
    }
   ],
   "source": [
    "import csv\n",
    "from data_as_code import Step, InputArtifact\n",
    "from pathlib import Path\n",
    "\n",
    "class CustomStep(Step):\n",
    "    survey = InputArtifact('survey')\n",
    "\n",
    "    def process(self) -> Path:\n",
    "        path = Path(r.wd, 'wages.csv')\n",
    "        with path.open('w', newline='') as wf:\n",
    "            writer = csv.writer(wf)\n",
    "            with self.survey.file_path.open(newline='') as cf:\n",
    "                for ix, row in enumerate(csv.reader(cf)):\n",
    "                    if ix == 0:\n",
    "                        writer.writerow(row)\n",
    "                    elif row[4] == 'Salaries and wages paid':\n",
    "                        try:\n",
    "                            writer.writerow(row[:4] + [int(row[5]) * int(1e6)] + ['DOLLARS'])\n",
    "                        except ValueError:\n",
    "                            pass\n",
    "        return path\n",
    "\n",
    "CustomStep(r, 'wages')\n",
    "print(r.get_artifact('wages').file_hash.hexdigest())"
   ],
   "metadata": {
    "collapsed": false,
    "pycharm": {
     "name": "#%%\n"
    }
   }
  }
 ],
 "metadata": {
  "kernelspec": {
   "display_name": "Python 3",
   "language": "python",
   "name": "python3"
  },
  "language_info": {
   "codemirror_mode": {
    "name": "ipython",
    "version": 2
   },
   "file_extension": ".py",
   "mimetype": "text/x-python",
   "name": "python",
   "nbconvert_exporter": "python",
   "pygments_lexer": "ipython2",
   "version": "2.7.6"
  }
 },
 "nbformat": 4,
 "nbformat_minor": 0
}